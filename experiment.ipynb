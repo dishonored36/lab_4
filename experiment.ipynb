{
 "cells": [
  {
   "cell_type": "code",
   "execution_count": 1,
   "metadata": {},
   "outputs": [
    {
     "name": "stdout",
     "output_type": "stream",
     "text": [
      "[[  2.11201213   2.0530217    2.97874173 ...,   4.94491236   5.08843211\n",
      "    3.91283625]\n",
      " [  3.5341195    4.98312069   4.89732169 ...,   7.78626737   8.00316028\n",
      "    6.46671552]\n",
      " [  3.15206717   3.17296983   4.10724891 ...,   5.97587362   5.69979463\n",
      "    5.11789663]\n",
      " ..., \n",
      " [  5.2553596    5.84227774   5.69506535 ...,  10.48111906  11.49996626\n",
      "   10.20461244]\n",
      " [  4.55745809   4.10494902   4.12450687 ...,   7.2437625    7.93635107\n",
      "    5.66912628]\n",
      " [  6.45104125   7.23895502   6.51395781 ...,  11.57328237  13.70733915\n",
      "   11.49803904]]\n"
     ]
    },
    {
     "data": {
      "image/png": "[encoded data removed]",
      "text/plain": [
       "<matplotlib.figure.Figure at 0x2a38ce8b5f8>"
      ]
     },
     "metadata": {},
     "output_type": "display_data"
    }
   ],
   "source": [
    "import numpy as np\n",
    "from matplotlib import pyplot as plt\n",
    "\n",
    "\n",
    "def load_data(file_num):\n",
    "    data_base = np.zeros(shape=(943, 1682))\n",
    "    base_name = 'D:\\machine learning\\experiment\\lab_4\\ml-100k\\\\' + 'u' + str(file_num) + '.base'\n",
    "    with open(base_name, 'r') as data_file1:\n",
    "        d_b = data_file1.readlines()\n",
    "        for line_b in d_b:\n",
    "            odom_b = line_b.split()  # 将单个数据分隔开存好\n",
    "            data_base[int(odom_b[0])-1][int(odom_b[1])-1] = float(odom_b[2])\n",
    "\n",
    "    data_test = np.zeros(shape=(943, 1682))\n",
    "    test_name = 'D:\\machine learning\\experiment\\lab_4\\ml-100k\\\\' + 'u' + str(file_num) + '.test'\n",
    "    with open(test_name, 'r') as data_file2:\n",
    "        d_t = data_file2.readlines()\n",
    "        for line_t in d_t:\n",
    "            odom_t = line_t.split()  # 将单个数据分隔开存好\n",
    "            data_test[int(odom_t[0])-1][int(odom_t[1])-1] = float(odom_t[2])\n",
    "    return data_base, data_test\n",
    "\n",
    "\n",
    "def matrix_factorization_sgd(data_train, data_test, p, q, key=5, n_cycle=50, batch=10000,  alpha=0.01, beta=0.01):\n",
    "    q = q.T\n",
    "\n",
    "    loss = []\n",
    "    for n in range(n_cycle):\n",
    "        for n_in in range(batch):\n",
    "            u = np.random.randint(0, data_train.shape[0] - 1)\n",
    "            i = np.random.randint(0, data_train.shape[1] - 1)\n",
    "\n",
    "            if data_train[u][i] > 0:\n",
    "                e_ui = data_train[u][i] - np.dot(p[u, :], q[:, i])\n",
    "                for k in range(key):\n",
    "                    p[u][k] = p[u][k] + alpha * (2 * e_ui * q[k][i] - beta * p[u][k])\n",
    "                    q[k][i] = q[k][i] + alpha * (2 * e_ui * p[u][k] - beta * q[k][i])\n",
    "\n",
    "        e = 0\n",
    "\n",
    "        for a in range(data_test.shape[0]):\n",
    "            for b in range(data_test.shape[1]):\n",
    "                if data_test[a][b] > 0:\n",
    "                    e = e + pow(data_test[a][b] - np.dot(p[a, :], q[:, b]), 2)/batch\n",
    "                    for k in range(K):\n",
    "                        e = e + ((beta / 2) * (pow(p[a][k], 2) + pow(q[k][b], 2)))/batch\n",
    "        loss.append(e)\n",
    "        if e < 0.001:\n",
    "            break\n",
    "\n",
    "    return p, q.T, loss\n",
    "\n",
    "\n",
    "def plot_loss(n, losses_validation):\n",
    "    plt.xlabel('iteration times')\n",
    "    plt.ylabel('loss of validation')\n",
    "    plt.title('Stochastic Gradient Decent')\n",
    "    n_cycles = range(1, n+1)\n",
    "    plt.plot(n_cycles, losses_validation, label=\"Loss of Validation\", color='red', linewidth=3)\n",
    "    plt.legend(loc=0)\n",
    "    plt.grid()\n",
    "    plt.show()\n",
    "\n",
    "\n",
    "# main\n",
    "N_cycle = 50\n",
    "Batch = 20000\n",
    "K = 50\n",
    "Alpha = 0.005\n",
    "Beta = 0.01\n",
    "train, test = load_data(np.random.randint(1, 5))\n",
    "p_t = np.random.random(size=(train.shape[0], K))\n",
    "q_t = np.random.random(size=(train.shape[1], K))\n",
    "P, Q, Loss = matrix_factorization_sgd(train, test, p_t, q_t, K, N_cycle, Batch, Alpha, Beta)\n",
    "R = np.dot(P, Q.T)\n",
    "print(R)\n",
    "plot_loss(len(Loss), Loss)\n"
   ]
  },
  {
   "cell_type": "code",
   "execution_count": null,
   "metadata": {
    "collapsed": true
   },
   "outputs": [],
   "source": []
  }
 ],
 "metadata": {
  "kernelspec": {
   "display_name": "Python 3",
   "language": "python",
   "name": "python3"
  },
  "language_info": {
   "codemirror_mode": {
    "name": "ipython",
    "version": 3
   },
   "file_extension": ".py",
   "mimetype": "text/x-python",
   "name": "python",
   "nbconvert_exporter": "python",
   "pygments_lexer": "ipython3",
   "version": "3.6.3"
  }
 },
 "nbformat": 4,
 "nbformat_minor": 2
}

{
 "cells": [
  {
   "cell_type": "code",
   "execution_count": 1,
   "metadata": {},
   "outputs": [
    {
     "name": "stdout",
     "output_type": "stream",
     "text": [
      "[[  2.95233928   2.91514525   2.91982925 ...,   5.91955158   3.9317855\n",
      "    4.14594784]\n",
      " [  3.95365964   4.72073178   3.62292797 ...,   7.47988472   6.3370783\n",
      "    7.0593958 ]\n",
      " [  4.02104288   2.5091268    3.73311277 ...,   4.28420454   4.42327717\n",
      "    5.40309889]\n",
      " ..., \n",
      " [  6.39262167   6.39854145   7.61839637 ...,  10.98056746  10.91884319\n",
      "   10.36016598]\n",
      " [  5.10441522   5.12381411   5.0575034  ...,   7.70622502   8.69118151\n",
      "    7.3302923 ]\n",
      " [  6.30623402   7.47398319   7.84585726 ...,  11.31145691  10.65173336\n",
      "   11.51918678]]\n"
     ]
    },
    {
     "data": {
      "image/png": "[encoded data removed]",
      "text/plain": [
       "<matplotlib.figure.Figure at 0x1c75f5b36a0>"
      ]
     },
     "metadata": {},
     "output_type": "display_data"
    }
   ],
   "source": [
    "import numpy as np\n",
    "from matplotlib import pyplot as plt\n",
    "\n",
    "\n",
    "def load_data(file_num):\n",
    "    data_base = np.zeros(shape=(943, 1682))\n",
    "    base_name = 'D:\\machine learning\\experiment\\lab_4\\ml-100k\\\\' + 'u' + str(file_num) + '.base'\n",
    "    with open(base_name, 'r') as data_file1:\n",
    "        d_b = data_file1.readlines()\n",
    "        for line_b in d_b:\n",
    "            odom_b = line_b.split()  # 将单个数据分隔开存好\n",
    "            data_base[int(odom_b[0])-1][int(odom_b[1])-1] = float(odom_b[2])\n",
    "\n",
    "    data_test = np.zeros(shape=(943, 1682))\n",
    "    test_name = 'D:\\machine learning\\experiment\\lab_4\\ml-100k\\\\' + 'u' + str(file_num) + '.test'\n",
    "    with open(test_name, 'r') as data_file2:\n",
    "        d_t = data_file2.readlines()\n",
    "        for line_t in d_t:\n",
    "            odom_t = line_t.split()  # 将单个数据分隔开存好\n",
    "            data_test[int(odom_t[0])-1][int(odom_t[1])-1] = float(odom_t[2])\n",
    "    return data_base, data_test\n",
    "\n",
    "\n",
    "def matrix_factorization_sgd(data_train, data_test, p, q, key=5, n_cycle=50, alpha=0.01, beta=0.01):\n",
    "    q = q.T\n",
    "\n",
    "    loss = []\n",
    "    for n in range(n_cycle):\n",
    "        for n_in in range(20000):\n",
    "            u = np.random.randint(0, data_train.shape[0] - 1)\n",
    "            i = np.random.randint(0, data_train.shape[1] - 1)\n",
    "\n",
    "            if data_train[u][i] > 0:\n",
    "                e_ui = data_train[u][i] - np.dot(p[u, :], q[:, i])\n",
    "                for k in range(key):\n",
    "                    p[u][k] = p[u][k] + alpha * (2 * e_ui * q[k][i] - beta * p[u][k])\n",
    "                    q[k][i] = q[k][i] + alpha * (2 * e_ui * p[u][k] - beta * q[k][i])\n",
    "\n",
    "        e = 0\n",
    "\n",
    "        for a in range(data_test.shape[0]):\n",
    "            for b in range(data_test.shape[1]):\n",
    "                if data_test[a][b] > 0:\n",
    "                    e = e + pow(data_test[a][b] - np.dot(p[a, :], q[:, b]), 2)\n",
    "                    for k in range(K):\n",
    "                        e = e + (beta / 2) * (pow(p[a][k], 2) + pow(q[k][b], 2))\n",
    "        loss.append(e)\n",
    "        if e < 0.001:\n",
    "            break\n",
    "\n",
    "    return p, q.T, loss\n",
    "\n",
    "\n",
    "def plot_loss(n, losses_validation):\n",
    "    plt.xlabel('iteration times')\n",
    "    plt.ylabel('loss of validation')\n",
    "    plt.title('Stochastic Gradient Decent')\n",
    "    n_cycles = range(1, n+1)\n",
    "    plt.plot(n_cycles, losses_validation, label=\"Loss of Validation\", color='red', linewidth=3)\n",
    "    plt.legend(loc=0)\n",
    "    plt.grid()\n",
    "    plt.show()\n",
    "\n",
    "\n",
    "# main\n",
    "N_cycle = 50\n",
    "K = 50\n",
    "Alpha = 0.005\n",
    "Beta = 0.01\n",
    "train, test = load_data(np.random.randint(1, 5))\n",
    "p_t = np.random.random(size=(train.shape[0], K))\n",
    "q_t = np.random.random(size=(train.shape[1], K))\n",
    "P, Q, Loss = matrix_factorization_sgd(train, test, p_t, q_t, K, N_cycle, Alpha, Beta)\n",
    "R = np.dot(P, Q.T)\n",
    "print(R)\n",
    "plot_loss(len(Loss), Loss)"
   ]
  },
  {
   "cell_type": "code",
   "execution_count": null,
   "metadata": {
    "collapsed": true
   },
   "outputs": [],
   "source": []
  }
 ],
 "metadata": {
  "kernelspec": {
   "display_name": "Python 3",
   "language": "python",
   "name": "python3"
  },
  "language_info": {
   "codemirror_mode": {
    "name": "ipython",
    "version": 3
   },
   "file_extension": ".py",
   "mimetype": "text/x-python",
   "name": "python",
   "nbconvert_exporter": "python",
   "pygments_lexer": "ipython3",
   "version": "3.6.3"
  }
 },
 "nbformat": 4,
 "nbformat_minor": 2
}
